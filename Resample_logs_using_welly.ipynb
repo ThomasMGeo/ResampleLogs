{
 "cells": [
  {
   "cell_type": "code",
   "execution_count": 24,
   "metadata": {},
   "outputs": [],
   "source": [
    "import welly\n",
    "import numpy as np\n",
    "\n",
    "from welly import Well"
   ]
  },
  {
   "cell_type": "code",
   "execution_count": 27,
   "metadata": {},
   "outputs": [
    {
     "name": "stdout",
     "output_type": "stream",
     "text": [
      "\u001b[31m204-20-1_logs.las\u001b[m\u001b[m*               foo.las\r\n",
      "Resample_logs_using_welly.ipynb  \u001b[34mtutorial\u001b[m\u001b[m/\r\n"
     ]
    }
   ],
   "source": [
    "ls"
   ]
  },
  {
   "cell_type": "code",
   "execution_count": 28,
   "metadata": {},
   "outputs": [
    {
     "name": "stderr",
     "output_type": "stream",
     "text": [
      "Header section Parameter regexp=~P was not found.\n"
     ]
    },
    {
     "data": {
      "text/html": [
       "<table><tr><th style=\"text-align:center;\" colspan=\"2\">GR [GAPI]</th></tr><tr><td style=\"text-align:center;\" colspan=\"2\">400.0000 : 2545.0300 : 0.1524</td></tr><tr><td><strong>run</strong></td><td>None</td></tr><tr><td><strong>null</strong></td><td>-999.0</td></tr><tr><td><strong>service_company</strong></td><td></td></tr><tr><td><strong>date</strong></td><td>16/03/2017</td></tr><tr><td><strong>code</strong></td><td></td></tr><tr><td><strong>description</strong></td><td>GammaRay        Gamma Ray</td></tr><tr><th style=\"border-top: 2px solid #000; text-align:center;\" colspan=\"2\"><strong>Stats</strong></th></tr><tr><td><strong>samples (NaNs)</strong></td><td>14075 (44)</td></tr><tr><td><strong><sub>min</sub> mean <sup>max</sup></strong></td><td><sub>17.68</sub> 58.966 <sup>104.62</sup></td></tr><tr><th style=\"border-top: 2px solid #000;\">Depth</th><th style=\"border-top: 2px solid #000;\">Value</th></tr><tr><td>400.0000</td><td>nan</td></tr><tr><td>400.1524</td><td>nan</td></tr><tr><td>400.3048</td><td>nan</td></tr><tr><td>⋮</td><td>⋮</td></tr><tr><td>2544.5728</td><td>nan</td></tr><tr><td>2544.7252</td><td>nan</td></tr><tr><td>2544.8776</td><td>nan</td></tr></table>"
      ],
      "text/plain": [
       "Curve([ nan,  nan,  nan, ...,  nan,  nan,  nan])"
      ]
     },
     "execution_count": 28,
     "metadata": {},
     "output_type": "execute_result"
    }
   ],
   "source": [
    "w = Well.from_las('204-20-1_logs.las')\n",
    "w.data['GR']"
   ]
  },
  {
   "cell_type": "code",
   "execution_count": 36,
   "metadata": {},
   "outputs": [
    {
     "data": {
      "text/plain": [
       "array([  400. ,   401.6,   403.2, ...,  1996.8,  1998.4,  2000. ])"
      ]
     },
     "execution_count": 36,
     "metadata": {},
     "output_type": "execute_result"
    }
   ],
   "source": [
    "np.linspace(400.0, 2000.0, num=1001) # check out what sort of spacing you want"
   ]
  },
  {
   "cell_type": "code",
   "execution_count": 37,
   "metadata": {},
   "outputs": [
    {
     "data": {
      "text/html": [
       "<table><tr><th style=\"text-align:center;\" colspan=\"2\">GR [GAPI]</th></tr><tr><td style=\"text-align:center;\" colspan=\"2\">400.0000 : 2000.8000 : 0.8000</td></tr><tr><td><strong>run</strong></td><td>None</td></tr><tr><td><strong>null</strong></td><td>-999.0</td></tr><tr><td><strong>service_company</strong></td><td></td></tr><tr><td><strong>date</strong></td><td>16/03/2017</td></tr><tr><td><strong>code</strong></td><td></td></tr><tr><td><strong>description</strong></td><td>GammaRay        Gamma Ray</td></tr><tr><th style=\"border-top: 2px solid #000; text-align:center;\" colspan=\"2\"><strong>Stats</strong></th></tr><tr><td><strong>samples (NaNs)</strong></td><td>2001 (0)</td></tr><tr><td><strong><sub>min</sub> mean <sup>max</sup></strong></td><td><sub>-534.15</sub> 53.253 <sup>98.85</sup></td></tr><tr><th style=\"border-top: 2px solid #000;\">Depth</th><th style=\"border-top: 2px solid #000;\">Value</th></tr><tr><td>400.0000</td><td>-534.1462</td></tr><tr><td>400.8000</td><td>-196.0708</td></tr><tr><td>401.6000</td><td>35.6049</td></tr><tr><td>⋮</td><td>⋮</td></tr><tr><td>1998.4000</td><td>74.1642</td></tr><tr><td>1999.2000</td><td>75.1069</td></tr><tr><td>2000.0000</td><td>76.1904</td></tr></table>"
      ],
      "text/plain": [
       "Curve([-534.14624965, -196.07079486,   35.60486924, ...,   74.16424318,\n",
       "         75.10689183,   76.19035263])"
      ]
     },
     "execution_count": 37,
     "metadata": {},
     "output_type": "execute_result"
    }
   ],
   "source": [
    "w.unify_basis(basis=np.linspace(400.0, 2000.0, num=2001))\n",
    "w.data['GR']"
   ]
  },
  {
   "cell_type": "code",
   "execution_count": 38,
   "metadata": {},
   "outputs": [],
   "source": [
    "# write out to .las\n",
    "w.to_las('foo.las')"
   ]
  },
  {
   "cell_type": "code",
   "execution_count": null,
   "metadata": {},
   "outputs": [],
   "source": []
  },
  {
   "cell_type": "code",
   "execution_count": null,
   "metadata": {},
   "outputs": [],
   "source": []
  },
  {
   "cell_type": "code",
   "execution_count": null,
   "metadata": {},
   "outputs": [],
   "source": []
  }
 ],
 "metadata": {
  "kernelspec": {
   "display_name": "Python [conda env:wells]",
   "language": "python",
   "name": "conda-env-wells-py"
  },
  "language_info": {
   "codemirror_mode": {
    "name": "ipython",
    "version": 3
   },
   "file_extension": ".py",
   "mimetype": "text/x-python",
   "name": "python",
   "nbconvert_exporter": "python",
   "pygments_lexer": "ipython3",
   "version": "3.6.5"
  }
 },
 "nbformat": 4,
 "nbformat_minor": 2
}
